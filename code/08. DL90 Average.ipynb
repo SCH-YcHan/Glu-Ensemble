{
 "cells": [
  {
   "cell_type": "code",
   "execution_count": 1,
   "id": "9b5286fd",
   "metadata": {},
   "outputs": [],
   "source": [
    "import pandas as pd\n",
    "import numpy as np\n",
    "\n",
    "from sklearn.metrics import mean_squared_error"
   ]
  },
  {
   "cell_type": "code",
   "execution_count": 2,
   "id": "e817ba58",
   "metadata": {},
   "outputs": [],
   "source": [
    "train_data, test_data = [], []\n",
    "\n",
    "for i in range(10):\n",
    "    train = pd.read_csv(\"../../data/BG Pred/Train_Fold\"+str(i)+\"_pred.csv\")\n",
    "    test = pd.read_csv(\"../../data/BG Pred/Test_Fold\"+str(i)+\"_pred.csv\")\n",
    "    \n",
    "    train_data.append(train)\n",
    "    test_data.append(test)"
   ]
  },
  {
   "cell_type": "code",
   "execution_count": 3,
   "id": "262be549",
   "metadata": {},
   "outputs": [],
   "source": [
    "rm_col = [\"label\"]"
   ]
  },
  {
   "cell_type": "code",
   "execution_count": 4,
   "id": "25d4584f",
   "metadata": {},
   "outputs": [],
   "source": [
    "test_x = test_data[0].drop(rm_col, axis=1)\n",
    "test_y = test_data[0][[\"label\"]]"
   ]
  },
  {
   "cell_type": "code",
   "execution_count": 7,
   "id": "c654d611",
   "metadata": {},
   "outputs": [],
   "source": [
    "import os\n",
    "path = \"../../data/BG Avg/\"\n",
    "if not os.path.exists(path):\n",
    "    os.mkdir(path)\n",
    "\n",
    "for i in range(10):\n",
    "    train_x = train_data[i].drop(rm_col, axis=1)\n",
    "    train_y = train_data[i][[\"label\"]]\n",
    "    \n",
    "    test_x = test_data[i].drop(rm_col, axis=1)\n",
    "    test_y = test_data[i][[\"label\"]]\n",
    "    \n",
    "    train_pred = (train_x.sum(axis=1)/(91-len(rm_col))).tolist()\n",
    "    test_pred = (test_x.sum(axis=1)/(91-len(rm_col))).tolist()\n",
    "    \n",
    "    train_pred_list, test_pred_list = [],[]\n",
    "    \n",
    "    train_pred_list.append(pd.DataFrame(train_pred, columns=[\"AVG\"]))\n",
    "    test_pred_list.append(pd.DataFrame(test_pred, columns=[\"AVG\"]))\n",
    "    \n",
    "    train_pred_list.append(train_y)\n",
    "    test_pred_list.append(test_y)\n",
    "        \n",
    "    train_pred_df = pd.concat(train_pred_list, axis=1) \n",
    "    test_pred_df = pd.concat(test_pred_list, axis=1)\n",
    "        \n",
    "    train_pred_df.to_csv(\"../../data/BG Avg/Train_Fold\"+str(i)+\"_avg.csv\", index=False)\n",
    "    test_pred_df.to_csv(\"../../data/BG Avg/Test_Fold\"+str(i)+\"_avg.csv\", index=False)"
   ]
  },
  {
   "cell_type": "code",
   "execution_count": null,
   "id": "c124d172",
   "metadata": {},
   "outputs": [],
   "source": []
  }
 ],
 "metadata": {
  "kernelspec": {
   "display_name": "Python 3 (ipykernel)",
   "language": "python",
   "name": "python3"
  },
  "language_info": {
   "codemirror_mode": {
    "name": "ipython",
    "version": 3
   },
   "file_extension": ".py",
   "mimetype": "text/x-python",
   "name": "python",
   "nbconvert_exporter": "python",
   "pygments_lexer": "ipython3",
   "version": "3.9.16"
  }
 },
 "nbformat": 4,
 "nbformat_minor": 5
}
