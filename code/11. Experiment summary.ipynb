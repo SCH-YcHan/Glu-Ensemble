{
 "cells": [
  {
   "cell_type": "markdown",
   "id": "2ca52aa4",
   "metadata": {},
   "source": [
    "## RMSE Result"
   ]
  },
  {
   "cell_type": "code",
   "execution_count": 1,
   "id": "18208ff0",
   "metadata": {},
   "outputs": [],
   "source": [
    "import pandas as pd"
   ]
  },
  {
   "cell_type": "code",
   "execution_count": 2,
   "id": "ccc0ed57",
   "metadata": {},
   "outputs": [],
   "source": [
    "# LR, LASSO, NAIVE\n",
    "LLN = pd.read_csv(\"../../data/BG LBStack Pred/Test_RMSE_lbstack.csv\")\n",
    "\n",
    "# AVG\n",
    "AVG = pd.read_csv(\"../../data/BG Avg Pred/Test_RMSE_avg.csv\")"
   ]
  },
  {
   "cell_type": "code",
   "execution_count": 7,
   "id": "0c997b34",
   "metadata": {},
   "outputs": [],
   "source": [
    "RMSE_table = pd.concat([LLN, AVG], ignore_index=True)"
   ]
  },
  {
   "cell_type": "code",
   "execution_count": 10,
   "id": "f07f8ffc",
   "metadata": {},
   "outputs": [],
   "source": [
    "RMSE_table = RMSE_table.reindex([0,1,3,2])"
   ]
  },
  {
   "cell_type": "code",
   "execution_count": 16,
   "id": "93f0dc49",
   "metadata": {},
   "outputs": [
    {
     "name": "stderr",
     "output_type": "stream",
     "text": [
      "C:\\Users\\user\\AppData\\Local\\Temp\\ipykernel_12124\\3538358259.py:1: FutureWarning: Dropping of nuisance columns in DataFrame reductions (with 'numeric_only=None') is deprecated; in a future version this will raise TypeError.  Select only valid columns before calling the reduction.\n",
      "  MEAN = RMSE_table.mean(axis=1)\n",
      "C:\\Users\\user\\AppData\\Local\\Temp\\ipykernel_12124\\3538358259.py:2: FutureWarning: Dropping of nuisance columns in DataFrame reductions (with 'numeric_only=None') is deprecated; in a future version this will raise TypeError.  Select only valid columns before calling the reduction.\n",
      "  STD = RMSE_table.std(axis=1)\n"
     ]
    }
   ],
   "source": [
    "MEAN = RMSE_table.mean(axis=1)\n",
    "STD = RMSE_table.std(axis=1)"
   ]
  },
  {
   "cell_type": "code",
   "execution_count": 31,
   "id": "a9ec7ea5",
   "metadata": {},
   "outputs": [],
   "source": [
    "mean_str = MEAN.apply(lambda x: f'{x:.3f}(')\n",
    "std_str = STD.apply(lambda x: f'{x:.3f})')"
   ]
  },
  {
   "cell_type": "code",
   "execution_count": 35,
   "id": "fb009512",
   "metadata": {},
   "outputs": [],
   "source": [
    "RMSE_table[\"MEAN(SD)\"] = mean_str+std_str"
   ]
  },
  {
   "cell_type": "code",
   "execution_count": 36,
   "id": "0b41086c",
   "metadata": {},
   "outputs": [
    {
     "data": {
      "text/html": [
       "<div>\n",
       "<style scoped>\n",
       "    .dataframe tbody tr th:only-of-type {\n",
       "        vertical-align: middle;\n",
       "    }\n",
       "\n",
       "    .dataframe tbody tr th {\n",
       "        vertical-align: top;\n",
       "    }\n",
       "\n",
       "    .dataframe thead th {\n",
       "        text-align: right;\n",
       "    }\n",
       "</style>\n",
       "<table border=\"1\" class=\"dataframe\">\n",
       "  <thead>\n",
       "    <tr style=\"text-align: right;\">\n",
       "      <th></th>\n",
       "      <th>Unnamed: 0</th>\n",
       "      <th>Fold0</th>\n",
       "      <th>Fold1</th>\n",
       "      <th>Fold2</th>\n",
       "      <th>Fold3</th>\n",
       "      <th>Fold4</th>\n",
       "      <th>Fold5</th>\n",
       "      <th>Fold6</th>\n",
       "      <th>Fold7</th>\n",
       "      <th>Fold8</th>\n",
       "      <th>Fold9</th>\n",
       "      <th>MEAN(SD)</th>\n",
       "    </tr>\n",
       "  </thead>\n",
       "  <tbody>\n",
       "    <tr>\n",
       "      <th>0</th>\n",
       "      <td>LR</td>\n",
       "      <td>20.021432</td>\n",
       "      <td>20.602190</td>\n",
       "      <td>22.553713</td>\n",
       "      <td>20.658511</td>\n",
       "      <td>18.436632</td>\n",
       "      <td>20.344333</td>\n",
       "      <td>25.406734</td>\n",
       "      <td>21.430169</td>\n",
       "      <td>21.401110</td>\n",
       "      <td>23.790103</td>\n",
       "      <td>21.464(2.001)</td>\n",
       "    </tr>\n",
       "    <tr>\n",
       "      <th>1</th>\n",
       "      <td>LASSO</td>\n",
       "      <td>19.927137</td>\n",
       "      <td>20.497389</td>\n",
       "      <td>22.417742</td>\n",
       "      <td>20.503395</td>\n",
       "      <td>18.371471</td>\n",
       "      <td>20.199420</td>\n",
       "      <td>25.265668</td>\n",
       "      <td>21.346450</td>\n",
       "      <td>21.258918</td>\n",
       "      <td>23.590623</td>\n",
       "      <td>21.338(1.977)</td>\n",
       "    </tr>\n",
       "    <tr>\n",
       "      <th>3</th>\n",
       "      <td>AVG</td>\n",
       "      <td>19.806151</td>\n",
       "      <td>20.167366</td>\n",
       "      <td>22.245521</td>\n",
       "      <td>20.249400</td>\n",
       "      <td>18.135085</td>\n",
       "      <td>20.356257</td>\n",
       "      <td>25.160191</td>\n",
       "      <td>21.261261</td>\n",
       "      <td>21.007004</td>\n",
       "      <td>23.101886</td>\n",
       "      <td>21.149(1.956)</td>\n",
       "    </tr>\n",
       "    <tr>\n",
       "      <th>2</th>\n",
       "      <td>Naive</td>\n",
       "      <td>22.820494</td>\n",
       "      <td>23.121830</td>\n",
       "      <td>25.813782</td>\n",
       "      <td>23.156411</td>\n",
       "      <td>20.610260</td>\n",
       "      <td>23.559716</td>\n",
       "      <td>29.112022</td>\n",
       "      <td>23.831604</td>\n",
       "      <td>23.747236</td>\n",
       "      <td>25.819141</td>\n",
       "      <td>24.159(2.288)</td>\n",
       "    </tr>\n",
       "  </tbody>\n",
       "</table>\n",
       "</div>"
      ],
      "text/plain": [
       "  Unnamed: 0      Fold0      Fold1      Fold2      Fold3      Fold4  \\\n",
       "0         LR  20.021432  20.602190  22.553713  20.658511  18.436632   \n",
       "1      LASSO  19.927137  20.497389  22.417742  20.503395  18.371471   \n",
       "3        AVG  19.806151  20.167366  22.245521  20.249400  18.135085   \n",
       "2      Naive  22.820494  23.121830  25.813782  23.156411  20.610260   \n",
       "\n",
       "       Fold5      Fold6      Fold7      Fold8      Fold9       MEAN(SD)  \n",
       "0  20.344333  25.406734  21.430169  21.401110  23.790103  21.464(2.001)  \n",
       "1  20.199420  25.265668  21.346450  21.258918  23.590623  21.338(1.977)  \n",
       "3  20.356257  25.160191  21.261261  21.007004  23.101886  21.149(1.956)  \n",
       "2  23.559716  29.112022  23.831604  23.747236  25.819141  24.159(2.288)  "
      ]
     },
     "execution_count": 36,
     "metadata": {},
     "output_type": "execute_result"
    }
   ],
   "source": [
    "RMSE_table"
   ]
  },
  {
   "cell_type": "markdown",
   "id": "eda8f011",
   "metadata": {},
   "source": [
    "## EGA Result"
   ]
  },
  {
   "cell_type": "code",
   "execution_count": null,
   "id": "6e05556d",
   "metadata": {},
   "outputs": [],
   "source": []
  },
  {
   "cell_type": "code",
   "execution_count": null,
   "id": "71fb4383",
   "metadata": {},
   "outputs": [],
   "source": []
  }
 ],
 "metadata": {
  "kernelspec": {
   "display_name": "Python 3 (ipykernel)",
   "language": "python",
   "name": "python3"
  },
  "language_info": {
   "codemirror_mode": {
    "name": "ipython",
    "version": 3
   },
   "file_extension": ".py",
   "mimetype": "text/x-python",
   "name": "python",
   "nbconvert_exporter": "python",
   "pygments_lexer": "ipython3",
   "version": "3.9.16"
  }
 },
 "nbformat": 4,
 "nbformat_minor": 5
}
