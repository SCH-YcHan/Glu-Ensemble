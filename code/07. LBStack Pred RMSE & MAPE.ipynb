{
 "cells": [
  {
   "cell_type": "code",
   "execution_count": 9,
   "id": "c96bf79d",
   "metadata": {},
   "outputs": [],
   "source": [
    "import warnings\n",
    "warnings.filterwarnings(\"ignore\")\n",
    "\n",
    "import pandas as pd\n",
    "import numpy as np\n",
    "\n",
    "from sklearn.metrics import mean_squared_error"
   ]
  },
  {
   "cell_type": "code",
   "execution_count": 10,
   "id": "3a7adacf",
   "metadata": {},
   "outputs": [],
   "source": [
    "def RMSE(y_test, y_pred):\n",
    "    return mean_squared_error(y_test, y_pred, squared=False)"
   ]
  },
  {
   "cell_type": "code",
   "execution_count": 11,
   "id": "951a6e9a",
   "metadata": {},
   "outputs": [],
   "source": [
    "train_RMSE_list = []\n",
    "test_RMSE_list = []\n",
    "\n",
    "for i in range(10):\n",
    "\n",
    "    train_data = pd.read_csv(\"../../data/BG LBStack/Train_Fold\"+str(i)+\"_lbstack.csv\")\n",
    "    test_data = pd.read_csv(\"../../data/BG LBStack/Test_Fold\"+str(i)+\"_lbstack.csv\")\n",
    "    \n",
    "    train_naive = pd.read_csv(\"../../data/BG Naive/Train_Fold\"+str(i)+\".csv\")\n",
    "    train_naive[\"y12_shifted\"] = train_naive.groupby(\"file_name\")[\"y12\"].shift(6)\n",
    "    train_naive.dropna(inplace=True)\n",
    "    \n",
    "    test_naive = pd.read_csv(\"../../data/BG Naive/Test_Fold\"+str(i)+\".csv\")\n",
    "    test_naive[\"y12_shifted\"] = test_naive.groupby(\"file_name\")[\"y12\"].shift(6)\n",
    "    test_naive.dropna(inplace=True)\n",
    "    \n",
    "    train_x = train_data.drop(\"label\", axis=1)\n",
    "    train_y = train_data[[\"label\"]]\n",
    "\n",
    "    test_x = test_data.drop(\"label\", axis=1)\n",
    "    test_y = test_data[[\"label\"]]\n",
    "    \n",
    "    train_RMSE = pd.DataFrame(\n",
    "        train_x.apply(lambda x:RMSE(train_y.values.flatten(), x), axis=0),\n",
    "        columns=[\"Fold\"+str(i)]\n",
    "    )\n",
    "\n",
    "    train_RMSE_naive = pd.DataFrame(\n",
    "        [RMSE(train_naive[\"y12\"], train_naive[\"y12_shifted\"])],\n",
    "        columns=[\"Fold\"+str(i)],\n",
    "        index=[\"Naive\"]\n",
    "    )\n",
    "    \n",
    "    train_RMSE = train_RMSE.append(train_RMSE_naive)\n",
    "    \n",
    "    test_RMSE = pd.DataFrame(\n",
    "        test_x.apply(lambda x:RMSE(test_y.values.flatten(), x), axis=0),\n",
    "        columns=[\"Fold\"+str(i)]        \n",
    "    )\n",
    "\n",
    "    test_RMSE_naive = pd.DataFrame(\n",
    "        [RMSE(test_naive[\"y12\"], test_naive[\"y12_shifted\"])],\n",
    "        columns=[\"Fold\"+str(i)],\n",
    "        index=[\"Naive\"]\n",
    "    )\n",
    "    \n",
    "    test_RMSE = test_RMSE.append(test_RMSE_naive)\n",
    "    \n",
    "    train_RMSE_list.append(train_RMSE)\n",
    "    test_RMSE_list.append(test_RMSE)\n",
    "\n",
    "train_RMSE_df = pd.DataFrame(np.concatenate(train_RMSE_list, axis=1),\n",
    "                             index = train_RMSE.index,\n",
    "                             columns = [\"Fold\"+str(i) for i in range(10)])\n",
    "test_RMSE_df = pd.DataFrame(np.concatenate(test_RMSE_list, axis=1),\n",
    "                            index = test_RMSE.index,\n",
    "                            columns = [\"Fold\"+str(i) for i in range(10)])"
   ]
  },
  {
   "cell_type": "code",
   "execution_count": 12,
   "id": "b2bebf1b",
   "metadata": {},
   "outputs": [],
   "source": [
    "import os\n",
    "path = \"../../data/BG LBStack Pred/\"\n",
    "if not os.path.exists(path):\n",
    "    os.mkdir(path)"
   ]
  },
  {
   "cell_type": "code",
   "execution_count": 13,
   "id": "4c084f59",
   "metadata": {},
   "outputs": [],
   "source": [
    "train_RMSE_df.to_csv(\"../../data/BG LBStack Pred/Train_RMSE_lbstack.csv\")\n",
    "test_RMSE_df.to_csv(\"../../data/BG LBStack Pred/Test_RMSE_lbstack.csv\")"
   ]
  },
  {
   "cell_type": "code",
   "execution_count": null,
   "id": "c5baf46b",
   "metadata": {},
   "outputs": [],
   "source": []
  }
 ],
 "metadata": {
  "kernelspec": {
   "display_name": "Python 3 (ipykernel)",
   "language": "python",
   "name": "python3"
  },
  "language_info": {
   "codemirror_mode": {
    "name": "ipython",
    "version": 3
   },
   "file_extension": ".py",
   "mimetype": "text/x-python",
   "name": "python",
   "nbconvert_exporter": "python",
   "pygments_lexer": "ipython3",
   "version": "3.9.16"
  }
 },
 "nbformat": 4,
 "nbformat_minor": 5
}
