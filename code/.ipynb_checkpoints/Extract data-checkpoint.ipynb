{
 "cells": [
  {
   "cell_type": "code",
   "execution_count": 1,
   "id": "3788a68b",
   "metadata": {},
   "outputs": [],
   "source": [
    "import os\n",
    "import pandas as pd\n",
    "import numpy as np\n",
    "import matplotlib.pyplot as plt"
   ]
  },
  {
   "cell_type": "code",
   "execution_count": 2,
   "id": "20b1fc65",
   "metadata": {},
   "outputs": [],
   "source": [
    "dataset = pd.read_csv(\"../../data/BG dataset.csv\")"
   ]
  },
  {
   "cell_type": "code",
   "execution_count": 3,
   "id": "b97b7500",
   "metadata": {},
   "outputs": [],
   "source": [
    "file_names = dataset.file_name.unique()\n",
    "np.random.shuffle(file_names)\n",
    "fold = np.array_split(file_names, 10)"
   ]
  },
  {
   "cell_type": "code",
   "execution_count": 4,
   "id": "46e961cf",
   "metadata": {},
   "outputs": [],
   "source": [
    "if not os.path.exists(\"../../data/Fold\"):\n",
    "    os.makedirs(\"../../data/Fold\")\n",
    "\n",
    "for window_size in [12, 24, 36]:\n",
    "    for i in range(10):\n",
    "        data = dataset[dataset[\"file_name\"].isin(fold[i])]\n",
    "        groups = data.groupby(\"file_name\")\n",
    "    \n",
    "        stride = 6\n",
    "    \n",
    "        X = []\n",
    "        y = []\n",
    "        for name, group in groups:\n",
    "            glucose = group[\"glucose\"].values\n",
    "            for j in range(36-window_size, len(glucose)-window_size-stride+1):\n",
    "                X.append(glucose[j:(j+window_size)])\n",
    "                y.append(glucose[j+window_size+stride-1])\n",
    "    \n",
    "        X = np.array(X)\n",
    "        y = np.array(y)\n",
    "    \n",
    "        np.savez(\"../../data/Fold/Fold\"+str(i)+\"_\"+str(window_size)+\"_\"+str(stride), X=X, y=y)"
   ]
  },
  {
   "cell_type": "code",
   "execution_count": null,
   "id": "7e2d654d",
   "metadata": {},
   "outputs": [],
   "source": []
  }
 ],
 "metadata": {
  "kernelspec": {
   "display_name": "Python 3 (ipykernel)",
   "language": "python",
   "name": "python3"
  },
  "language_info": {
   "codemirror_mode": {
    "name": "ipython",
    "version": 3
   },
   "file_extension": ".py",
   "mimetype": "text/x-python",
   "name": "python",
   "nbconvert_exporter": "python",
   "pygments_lexer": "ipython3",
   "version": "3.9.16"
  }
 },
 "nbformat": 4,
 "nbformat_minor": 5
}
