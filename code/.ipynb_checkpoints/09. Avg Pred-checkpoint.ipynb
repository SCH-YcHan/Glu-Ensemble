{
 "cells": [
  {
   "cell_type": "code",
   "execution_count": 1,
   "id": "9dcbe669",
   "metadata": {},
   "outputs": [],
   "source": [
    "import warnings\n",
    "warnings.filterwarnings(\"ignore\")\n",
    "\n",
    "import pandas as pd\n",
    "import numpy as np\n",
    "\n",
    "from sklearn.metrics import mean_squared_error\n",
    "from sklearn.metrics import mean_absolute_percentage_error"
   ]
  },
  {
   "cell_type": "code",
   "execution_count": 2,
   "id": "4ca13871",
   "metadata": {},
   "outputs": [],
   "source": [
    "def RMSE(y_test, y_pred):\n",
    "    return mean_absolute_percentage_error(y_test, y_pred, squared=False)"
   ]
  },
  {
   "cell_type": "code",
   "execution_count": 3,
   "id": "0160c69b",
   "metadata": {},
   "outputs": [],
   "source": [
    "train_RMSE_list = []\n",
    "test_RMSE_list = []\n",
    "\n",
    "for i in range(10):\n",
    "\n",
    "    train_data = pd.read_csv(\"../../data/BG Avg/Train_Fold\"+str(i)+\"_avg.csv\")\n",
    "    test_data = pd.read_csv(\"../../data/BG Avg/Test_Fold\"+str(i)+\"_avg.csv\")\n",
    "    \n",
    "    train_x = train_data.drop(\"label\", axis=1)\n",
    "    train_y = train_data[[\"label\"]]\n",
    "\n",
    "    test_x = test_data.drop(\"label\", axis=1)\n",
    "    test_y = test_data[[\"label\"]] \n",
    " \n",
    "    train_RMSE = pd.DataFrame(\n",
    "        train_x.apply(lambda x:RMSE(train_y.values.flatten(), x), axis=0),\n",
    "        columns=[\"Fold\"+str(i)]\n",
    "    )\n",
    "    \n",
    "    test_RMSE = pd.DataFrame(\n",
    "        test_x.apply(lambda x:RMSE(test_y.values.flatten(), x), axis=0),\n",
    "        columns=[\"Fold\"+str(i)]        \n",
    "    )\n",
    "    \n",
    "    train_RMSE_list.append(train_RMSE)\n",
    "    test_RMSE_list.append(test_RMSE)\n",
    "    \n",
    "train_RMSE_df = pd.DataFrame(np.concatenate(train_RMSE_list, axis=1),\n",
    "                             index = train_RMSE.index,\n",
    "                             columns = [\"Fold\"+str(i) for i in range(10)])\n",
    "test_RMSE_df = pd.DataFrame(np.concatenate(test_RMSE_list, axis=1),\n",
    "                            index = test_RMSE.index,\n",
    "                            columns = [\"Fold\"+str(i) for i in range(10)])"
   ]
  },
  {
   "cell_type": "code",
   "execution_count": 4,
   "id": "796a3b7f",
   "metadata": {},
   "outputs": [],
   "source": [
    "import os\n",
    "path = \"../../data/BG Avg Pred/\"\n",
    "if not os.path.exists(path):\n",
    "    os.mkdir(path)"
   ]
  },
  {
   "cell_type": "code",
   "execution_count": 5,
   "id": "4bb1d2bf",
   "metadata": {},
   "outputs": [],
   "source": [
    "train_RMSE_df.to_csv(\"../../data/BG Avg Pred/Train_RMSE_avg.csv\")\n",
    "test_RMSE_df.to_csv(\"../../data/BG Avg Pred/Test_RMSE_avg.csv\")"
   ]
  },
  {
   "cell_type": "code",
   "execution_count": null,
   "id": "2a082994",
   "metadata": {},
   "outputs": [],
   "source": []
  }
 ],
 "metadata": {
  "kernelspec": {
   "display_name": "Python 3 (ipykernel)",
   "language": "python",
   "name": "python3"
  },
  "language_info": {
   "codemirror_mode": {
    "name": "ipython",
    "version": 3
   },
   "file_extension": ".py",
   "mimetype": "text/x-python",
   "name": "python",
   "nbconvert_exporter": "python",
   "pygments_lexer": "ipython3",
   "version": "3.9.16"
  }
 },
 "nbformat": 4,
 "nbformat_minor": 5
}
